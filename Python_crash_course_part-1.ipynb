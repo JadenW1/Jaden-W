{
 "cells": [
  {
   "cell_type": "code",
   "execution_count": null,
   "id": "74216565",
   "metadata": {},
   "outputs": [],
   "source": []
  },
  {
   "cell_type": "code",
   "execution_count": 3,
   "id": "964b0fd4",
   "metadata": {
    "scrolled": true
   },
   "outputs": [
    {
     "name": "stdout",
     "output_type": "stream",
     "text": [
      "hello world!\n",
      "python is fun to learn.\n"
     ]
    }
   ],
   "source": [
    "print('hello world!')\n",
    "\n",
    "print('python is fun to learn.')"
   ]
  },
  {
   "cell_type": "markdown",
   "id": "5189439a",
   "metadata": {},
   "source": [
    "# Title"
   ]
  },
  {
   "cell_type": "markdown",
   "id": "4f1862e6",
   "metadata": {},
   "source": [
    "## Sub-title"
   ]
  },
  {
   "cell_type": "code",
   "execution_count": 5,
   "id": "45ea79b5",
   "metadata": {},
   "outputs": [
    {
     "data": {
      "text/plain": [
       "'to put it simply, criminology studies the anatomy of a crime. More specifically, it explores the causes, costs, and consequences of it. Criminal justice is different from criminology in the sphere it covers. It is the system established for dealing with crimes: the ways of detection, detention, prosecution, and punishment. In short, think of criminal justice as a part of law enforcement.'"
      ]
     },
     "execution_count": 5,
     "metadata": {},
     "output_type": "execute_result"
    }
   ],
   "source": [
    "'''to put it simply, criminology studies the anatomy of a crime. More specifically, it explores the causes, costs, and consequences of it. Criminal justice is different from criminology in the sphere it covers. It is the system established for dealing with crimes: the ways of detection, detention, prosecution, and punishment. In short, think of criminal justice as a part of law enforcement.'''"
   ]
  },
  {
   "cell_type": "markdown",
   "id": "39a083f3",
   "metadata": {},
   "source": [
    "* # boulet \n",
    "    * sub "
   ]
  },
  {
   "cell_type": "markdown",
   "id": "bff08daa",
   "metadata": {},
   "source": [
    "# *italic*"
   ]
  },
  {
   "cell_type": "markdown",
   "id": "0dbbc6f3",
   "metadata": {},
   "source": [
    "# ipynb save it. as .py"
   ]
  },
  {
   "cell_type": "markdown",
   "id": "15159083",
   "metadata": {},
   "source": [
    "# * Data types and operations\n",
    "       1. Operations\n",
    "       2. Data Types"
   ]
  },
  {
   "cell_type": "markdown",
   "id": "ee0636ad",
   "metadata": {},
   "source": [
    "### Addition"
   ]
  },
  {
   "cell_type": "code",
   "execution_count": 8,
   "id": "a922e435",
   "metadata": {},
   "outputs": [
    {
     "data": {
      "text/plain": [
       "5"
      ]
     },
     "execution_count": 8,
     "metadata": {},
     "output_type": "execute_result"
    }
   ],
   "source": [
    "3+2"
   ]
  },
  {
   "cell_type": "markdown",
   "id": "d0fa80ce",
   "metadata": {},
   "source": [
    "2.5 + 5.7"
   ]
  },
  {
   "cell_type": "code",
   "execution_count": null,
   "id": "701a7e5c",
   "metadata": {},
   "outputs": [],
   "source": [
    "#Subtraction "
   ]
  },
  {
   "cell_type": "code",
   "execution_count": 9,
   "id": "881fcbe8",
   "metadata": {},
   "outputs": [
    {
     "data": {
      "text/plain": [
       "1"
      ]
     },
     "execution_count": 9,
     "metadata": {},
     "output_type": "execute_result"
    }
   ],
   "source": [
    "3-2"
   ]
  },
  {
   "cell_type": "code",
   "execution_count": null,
   "id": "ca1b227d",
   "metadata": {},
   "outputs": [],
   "source": [
    "### Regular Division"
   ]
  },
  {
   "cell_type": "code",
   "execution_count": 10,
   "id": "e7ba5a82",
   "metadata": {},
   "outputs": [
    {
     "data": {
      "text/plain": [
       "0.0625"
      ]
     },
     "execution_count": 10,
     "metadata": {},
     "output_type": "execute_result"
    }
   ],
   "source": [
    "0.25/4"
   ]
  },
  {
   "cell_type": "code",
   "execution_count": null,
   "id": "785f7730",
   "metadata": {},
   "outputs": [],
   "source": [
    "### Integer Division"
   ]
  },
  {
   "cell_type": "code",
   "execution_count": 11,
   "id": "38eee32a",
   "metadata": {},
   "outputs": [
    {
     "data": {
      "text/plain": [
       "2"
      ]
     },
     "execution_count": 11,
     "metadata": {},
     "output_type": "execute_result"
    }
   ],
   "source": [
    "12//5"
   ]
  },
  {
   "cell_type": "code",
   "execution_count": 12,
   "id": "a635cdfc",
   "metadata": {},
   "outputs": [
    {
     "data": {
      "text/plain": [
       "0.0"
      ]
     },
     "execution_count": 12,
     "metadata": {},
     "output_type": "execute_result"
    }
   ],
   "source": [
    "0.25//4"
   ]
  },
  {
   "cell_type": "code",
   "execution_count": 13,
   "id": "00fb5f9b",
   "metadata": {},
   "outputs": [
    {
     "data": {
      "text/plain": [
       "7"
      ]
     },
     "execution_count": 13,
     "metadata": {},
     "output_type": "execute_result"
    }
   ],
   "source": [
    "15//2"
   ]
  },
  {
   "cell_type": "markdown",
   "id": "8fee3f9b",
   "metadata": {},
   "source": [
    "### Modules\n",
    "returns the remember of the division"
   ]
  },
  {
   "cell_type": "code",
   "execution_count": 16,
   "id": "6afa99ae",
   "metadata": {},
   "outputs": [
    {
     "data": {
      "text/plain": [
       "3"
      ]
     },
     "execution_count": 16,
     "metadata": {},
     "output_type": "execute_result"
    }
   ],
   "source": [
    "23%5"
   ]
  },
  {
   "cell_type": "code",
   "execution_count": 17,
   "id": "61b3a3c8",
   "metadata": {},
   "outputs": [
    {
     "data": {
      "text/plain": [
       "4"
      ]
     },
     "execution_count": 17,
     "metadata": {},
     "output_type": "execute_result"
    }
   ],
   "source": [
    "-51 % 5"
   ]
  },
  {
   "cell_type": "code",
   "execution_count": 18,
   "id": "a0edc5fa",
   "metadata": {},
   "outputs": [
    {
     "data": {
      "text/plain": [
       "0"
      ]
     },
     "execution_count": 18,
     "metadata": {},
     "output_type": "execute_result"
    }
   ],
   "source": [
    "12 % 2"
   ]
  },
  {
   "cell_type": "code",
   "execution_count": 19,
   "id": "43d2c876",
   "metadata": {},
   "outputs": [
    {
     "data": {
      "text/plain": [
       "0"
      ]
     },
     "execution_count": 19,
     "metadata": {},
     "output_type": "execute_result"
    }
   ],
   "source": [
    "6 % 2"
   ]
  },
  {
   "cell_type": "markdown",
   "id": "30be7978",
   "metadata": {},
   "source": [
    "###Power"
   ]
  },
  {
   "cell_type": "markdown",
   "id": "fd0eda42",
   "metadata": {},
   "source": [
    "2**4"
   ]
  },
  {
   "cell_type": "code",
   "execution_count": 21,
   "id": "b0f37740",
   "metadata": {},
   "outputs": [
    {
     "data": {
      "text/plain": [
       "16"
      ]
     },
     "execution_count": 21,
     "metadata": {},
     "output_type": "execute_result"
    }
   ],
   "source": [
    "(-4)**2"
   ]
  },
  {
   "cell_type": "markdown",
   "id": "064d6902",
   "metadata": {},
   "source": [
    "### Boolean"
   ]
  },
  {
   "cell_type": "code",
   "execution_count": 22,
   "id": "563085f3",
   "metadata": {},
   "outputs": [
    {
     "data": {
      "text/plain": [
       "False"
      ]
     },
     "execution_count": 22,
     "metadata": {},
     "output_type": "execute_result"
    }
   ],
   "source": [
    "(20 > 100) and (16 < 25)"
   ]
  },
  {
   "cell_type": "code",
   "execution_count": null,
   "id": "11116ba8",
   "metadata": {},
   "outputs": [],
   "source": [
    "AND\n",
    "|True| False | | or |\n",
    "| T  |T|T    | | T. |\n",
    "|F. | T.     | | T. |\n",
    "|F. |"
   ]
  }
 ],
 "metadata": {
  "kernelspec": {
   "display_name": "Python 3 (ipykernel)",
   "language": "python",
   "name": "python3"
  },
  "language_info": {
   "codemirror_mode": {
    "name": "ipython",
    "version": 3
   },
   "file_extension": ".py",
   "mimetype": "text/x-python",
   "name": "python",
   "nbconvert_exporter": "python",
   "pygments_lexer": "ipython3",
   "version": "3.11.4"
  }
 },
 "nbformat": 4,
 "nbformat_minor": 5
}
